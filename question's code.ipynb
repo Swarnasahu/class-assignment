{
 "cells": [
  {
   "cell_type": "code",
   "execution_count": 4,
   "metadata": {},
   "outputs": [
    {
     "data": {
      "text/plain": [
       "'Myna'"
      ]
     },
     "execution_count": 4,
     "metadata": {},
     "output_type": "execute_result"
    }
   ],
   "source": [
    "#Que-1  Input a string and output a substring made of first Two characters and last Two characters\n",
    "\n",
    "x=\"My name is Swarna\"\n",
    "x[0:2]+x[-2:]\n"
   ]
  },
  {
   "cell_type": "code",
   "execution_count": 25,
   "metadata": {},
   "outputs": [
    {
     "name": "stdout",
     "output_type": "stream",
     "text": [
      "sureing\n",
      "surely\n"
     ]
    }
   ],
   "source": [
    "#Que-2 Sample string,check the last characters of the string,if 'ly' change with 'ing' and vice versa\n",
    "\n",
    "st = \"surely\"\n",
    "st = st[:4] + 'ing'\n",
    "print(st)\n",
    "str1=st[:4]+ 'ly'\n",
    "print(str1)\n",
    "\n"
   ]
  },
  {
   "cell_type": "code",
   "execution_count": 26,
   "metadata": {},
   "outputs": [
    {
     "name": "stdout",
     "output_type": "stream",
     "text": [
      "['I', 'love', 'to', 'sing', 'new', 'song']\n",
      "['I#', 'love#', 'to#', 'sing#', 'new#', 'song#']\n"
     ]
    }
   ],
   "source": [
    "#Que-3 Make a string with a sentence,separate on space,print each string ending with '#'\n",
    "\n",
    "st=\"I love to sing new song\"\n",
    "x=st.split()   #string separate\n",
    "print(x)\n",
    "n = len(x)\n",
    "for i in range(n): #loop using for add # in each string of the list\n",
    "    x[i] = x[i] + '#'\n",
    "print(x)\n",
    "\n"
   ]
  },
  {
   "cell_type": "code",
   "execution_count": 28,
   "metadata": {},
   "outputs": [
    {
     "data": {
      "text/plain": [
       "'How much  would a chuck chuck if a chuck could chuck ?'"
      ]
     },
     "execution_count": 28,
     "metadata": {},
     "output_type": "execute_result"
    }
   ],
   "source": [
    "#Que-4 Extract string without 'wood',from the given string.\n",
    "\n",
    "inp='How much wood would a woodchuck chuck if a woodchuck could chuck wood?'\n",
    "inp.replace(\"wood\",\"\")\n",
    "\n"
   ]
  },
  {
   "cell_type": "code",
   "execution_count": 4,
   "metadata": {},
   "outputs": [
    {
     "name": "stdout",
     "output_type": "stream",
     "text": [
      "Enter a string:minimum\n",
      "The new string is: inimu\n"
     ]
    }
   ],
   "source": [
    "#Que-5 Input:'madam','minimum' and output:'ada','inimu'\n",
    "\n",
    "s1=input(\"Enter a string:\")\n",
    "s2=s1[1:len(s1)-1]\n",
    "print(\"The new string is:\",s2)"
   ]
  },
  {
   "cell_type": "code",
   "execution_count": 6,
   "metadata": {},
   "outputs": [
    {
     "name": "stdout",
     "output_type": "stream",
     "text": [
      "Enter a string:How much wood would a woodchuck chuck if a woodchuck could chuck wood ?\n",
      "The new string is How much  would a chuck chuck if a chuck could chuck  ?\n"
     ]
    }
   ],
   "source": [
    "#Que-6 Find places when 'chuck' occurs in the string:'How much wood would a woodchuck chuck if a woodchuck could chuck wood ?'\n",
    "\n",
    "st=input(\"Enter a string:\")\n",
    "if 'wood' in st:\n",
    "    st1=st.replace(\"wood\",'')\n",
    "    print(\"The new string is\",st1)\n",
    "if 'wood' not in st:\n",
    "    print(\" The string don't have wood\")"
   ]
  },
  {
   "cell_type": "code",
   "execution_count": 15,
   "metadata": {},
   "outputs": [
    {
     "name": "stdout",
     "output_type": "stream",
     "text": [
      "Today's news:Trump comes to Gujurat\n"
     ]
    }
   ],
   "source": [
    "#Que-7 input:'today's news:trump comes to gujurat.'\n",
    "      #output:'Today's news:\"Trump comes to GUJURAT\"\n",
    "\n",
    "n1=\"today's news:\"\n",
    "n2=\"trump comes to \"\n",
    "n3= \"gujurat\"\n",
    "print(n1.capitalize() + n2.capitalize() \n",
    "                         + n3.capitalize())"
   ]
  },
  {
   "cell_type": "code",
   "execution_count": 19,
   "metadata": {},
   "outputs": [
    {
     "name": "stdout",
     "output_type": "stream",
     "text": [
      "Enter a string:swarnalata sahu\n",
      "s*w*a*r*n*a*l*a*t*a* *s*a*h*u\n"
     ]
    }
   ],
   "source": [
    "#Que-8 In a simple string, add '*' in the middle of the string.\n",
    "\n",
    "\n",
    "s1=input(\"Enter a string:\")\n",
    "print(\"*\".join(s1))"
   ]
  },
  {
   "cell_type": "code",
   "execution_count": 20,
   "metadata": {},
   "outputs": [
    {
     "name": "stdout",
     "output_type": "stream",
     "text": [
      "Enter a string:que\n",
      "quequeque\n"
     ]
    }
   ],
   "source": [
    "#Que-9 input:'que'\n",
    "#output:'quequeque' replica of string\n",
    "\n",
    "s1=input(\"Enter a string:\")\n",
    "s2=s1*3\n",
    "print(s2)"
   ]
  },
  {
   "cell_type": "code",
   "execution_count": 21,
   "metadata": {},
   "outputs": [
    {
     "name": "stdout",
     "output_type": "stream",
     "text": [
      "Enter a string:sWARNAlATA sAHU\n",
      "SwarnaLata Sahu\n"
     ]
    }
   ],
   "source": [
    "#Que-10 Uppercase- lowercase and viceversa\n",
    "\n",
    "s1=input(\"Enter a string:\")\n",
    "s2=s1.swapcase()\n",
    "print(s2)"
   ]
  },
  {
   "cell_type": "code",
   "execution_count": 27,
   "metadata": {},
   "outputs": [
    {
     "name": "stdout",
     "output_type": "stream",
     "text": [
      "Enter a string:b\n",
      "The inputed string is Alphabet\n",
      "The ASCII value of alphabet is: 56\n"
     ]
    }
   ],
   "source": [
    "#Que-11 If the string is digit,print its binary else,print its ASCII code\n",
    "\n",
    "s=input(\"Enter a string:\")\n",
    "if((s>='a' and s<='z') or (s>='A' and s<='Z')):\n",
    "    print(\"The inputed string is Alphabet\")\n",
    "    print(\"The ASCII value of alphabet is:\",ord(st))\n",
    "elif(s>'0' or s<'9'):\n",
    "    print(\"The input string is Digit\")\n",
    "    s1=int(s)\n",
    "    print(\"Binary value of the corresponding digit is:\",bin(st1))\n"
   ]
  },
  {
   "cell_type": "code",
   "execution_count": null,
   "metadata": {},
   "outputs": [],
   "source": []
  },
  {
   "cell_type": "code",
   "execution_count": null,
   "metadata": {},
   "outputs": [],
   "source": []
  },
  {
   "cell_type": "code",
   "execution_count": null,
   "metadata": {},
   "outputs": [],
   "source": []
  },
  {
   "cell_type": "code",
   "execution_count": null,
   "metadata": {},
   "outputs": [],
   "source": []
  }
 ],
 "metadata": {
  "kernelspec": {
   "display_name": "Python 3",
   "language": "python",
   "name": "python3"
  },
  "language_info": {
   "codemirror_mode": {
    "name": "ipython",
    "version": 3
   },
   "file_extension": ".py",
   "mimetype": "text/x-python",
   "name": "python",
   "nbconvert_exporter": "python",
   "pygments_lexer": "ipython3",
   "version": "3.7.4"
  }
 },
 "nbformat": 4,
 "nbformat_minor": 2
}
